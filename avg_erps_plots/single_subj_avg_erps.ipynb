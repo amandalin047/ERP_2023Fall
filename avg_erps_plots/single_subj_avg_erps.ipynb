{
 "cells": [
  {
   "cell_type": "code",
   "execution_count": null,
   "id": "a72aad6f-0d54-4bc7-be29-3dd4361867a3",
   "metadata": {},
   "outputs": [],
   "source": [
    "from create_epochs import *\n",
    "import matplotlib.pyplot as plt\n",
    "import mne"
   ]
  },
  {
   "cell_type": "code",
   "execution_count": null,
   "id": "10945071-09c3-416b-b79f-66fd83bc4a36",
   "metadata": {},
   "outputs": [],
   "source": [
    "eeglab_raw = mne.io.read_raw_eeglab('S1.set')\n",
    "eeglab_epochs = mne.read_epochs_eeglab('S1_elist_bins_chop_be.set')\n",
    "\n",
    "eeglab_epochs.event_id"
   ]
  },
  {
   "cell_type": "code",
   "execution_count": null,
   "id": "af7a2861-33c1-4b74-81e4-6df16a57d730",
   "metadata": {},
   "outputs": [],
   "source": [
    "# This function also works for when eeglab_epochs has been ADed\n",
    "epochs = epoching(eeglab_raw, eeglab_epochs, 'S1_bdf_18bins.txt', 'S1_elist_bins.txt')"
   ]
  },
  {
   "cell_type": "code",
   "execution_count": null,
   "id": "f2afad79-0008-4e92-9431-73a9ec8e8bdb",
   "metadata": {},
   "outputs": [],
   "source": [
    "display(epochs.event_id)\n",
    "\n",
    "bins = parse_bdf('S1_bdf_18bins.txt')\n",
    "for v in bins.values():\n",
    "    print('\\n', v)\n",
    "    display(epochs[v])"
   ]
  },
  {
   "cell_type": "code",
   "execution_count": null,
   "id": "881afdce-ad0f-4064-9097-315e2b9fbb02",
   "metadata": {},
   "outputs": [],
   "source": [
    "evokeds = [epochs[v].average() for v in bins.values()]\n",
    "len(evokeds)"
   ]
  },
  {
   "cell_type": "code",
   "execution_count": null,
   "id": "63258537-dd89-49c9-b27d-c6ec055752ee",
   "metadata": {},
   "outputs": [],
   "source": [
    "n_bins = len(evokeds)\n",
    "n_chs, n_times = evokeds[0].get_data().shape\n",
    "data = np.array([evokeds[i].get_data(units='uV') for i in range(len(evokeds))], dtype=object).reshape(n_bins, n_chs, n_times)\n",
    "data.shape"
   ]
  },
  {
   "cell_type": "code",
   "execution_count": null,
   "id": "077d69b3-3032-4e6a-8a0c-2e1bf99264f7",
   "metadata": {},
   "outputs": [],
   "source": [
    "ch_dict = {}\n",
    "for i, x in enumerate(epochs.ch_names):\n",
    "    ch_dict[x] = i\n",
    "    \n",
    "ch_to_plot = ['FZ', 'CZ', 'PZ']\n",
    "bins_to_plot = ['G/Cor/LVF', 'G/Cor/RVF', 'UG/Cor/LVF', 'UG/Cor/RVF']\n",
    "\n",
    "t = [i for i in range(-200, 1200)]\n",
    "linestyles = ['solid', 'solid', 'dashed', 'dashed']\n",
    "colors = ['navy','deepskyblue','navy', 'deepskyblue']\n",
    "\n",
    "figure, axes = plt.subplots(1,3, figsize=(12, 3), sharey=True)\n",
    "for ax, ch in zip(axes.copy().flatten(), ch_to_plot):\n",
    "    for i, x in enumerate(bins_to_plot):\n",
    "        ax.plot(t, data[int(list(bins.keys())[int(list(bins.values()).index(x))-1])][ch_dict[ch]],\n",
    "                linestyle=linestyles[i], color=colors[i], label=x)\n",
    "    ax.axvline(x=0, color='black', linewidth=0.5)\n",
    "    ax.axhline(y=0, color='black', linewidth=0.5)\n",
    "    ax.set_title(ch)\n",
    "    ax.set_xlabel('Time (ms)')\n",
    "    ax.set_xlim(-200, 1200)\n",
    "    ax.set_ylabel('µV')\n",
    "    ax.invert_yaxis()\n",
    "    ax.yaxis.set_tick_params(labelbottom=True)\n",
    "    hdl, lbl = ax.get_legend_handles_labels()\n",
    "figure.legend(hdl, lbl, loc='upper left', bbox_to_anchor=[-0.001, 0.001])\n",
    "figure.tight_layout()\n",
    "plt.show()"
   ]
  }
 ],
 "metadata": {
  "kernelspec": {
   "display_name": "Python 3 (ipykernel)",
   "language": "python",
   "name": "python3"
  },
  "language_info": {
   "codemirror_mode": {
    "name": "ipython",
    "version": 3
   },
   "file_extension": ".py",
   "mimetype": "text/x-python",
   "name": "python",
   "nbconvert_exporter": "python",
   "pygments_lexer": "ipython3",
   "version": "3.11.5"
  }
 },
 "nbformat": 4,
 "nbformat_minor": 5
}
