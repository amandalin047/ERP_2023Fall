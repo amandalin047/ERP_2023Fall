{
 "cells": [
  {
   "cell_type": "code",
   "execution_count": null,
   "id": "23ccc4b3-a050-4af0-a94d-c2365a04e63c",
   "metadata": {},
   "outputs": [],
   "source": [
    "from create_epochs import *\n",
    "import matplotlib.pyplot as plt\n",
    "import mne\n",
    "import pandas as pd\n",
    "import os\n",
    "from copy import deepcopy\n",
    "from collections import namedtuple\n",
    "import warnings\n",
    "warnings.filterwarnings('ignore')"
   ]
  },
  {
   "cell_type": "code",
   "execution_count": null,
   "id": "1c506582-9a18-4530-a505-63fcb51fc336",
   "metadata": {},
   "outputs": [],
   "source": [
    "# If your OS is a UNIX distribution (Linux, macOS), change '\\\\' to '/'\n",
    "# (I don't know why on Windows, paths have to be escaped)\n",
    "eeglab_raw = mne.io.read_raw_eeglab('files_to_read\\\\S1.set')\n",
    "eeglab_epochs = mne.read_epochs_eeglab('files_to_read\\\\S1_elist_HW3bins_be.set')\n",
    "\n",
    "# This function also works for when eeglab_epochs has been ADed\n",
    "epochs = epoching(eeglab_raw, eeglab_epochs,\n",
    "                  'files_to_read\\\\HW3-tutorial-bdf.txt', 'files_to_read\\\\S1_elist_HW3bins.txt', tmin=-0.2)"
   ]
  },
  {
   "cell_type": "code",
   "execution_count": null,
   "id": "5490c5b7-81af-4bcb-878a-ffa8d7e88386",
   "metadata": {},
   "outputs": [],
   "source": [
    "epochs.event_id"
   ]
  },
  {
   "cell_type": "code",
   "execution_count": null,
   "id": "3fdf19ff-bc81-4173-8ec1-c4cba423ff92",
   "metadata": {},
   "outputs": [],
   "source": [
    "bins = parse_bdf('files_to_read\\\\HW3-tutorial-bdf.txt')\n",
    "bins"
   ]
  },
  {
   "cell_type": "code",
   "execution_count": null,
   "id": "b2485fca-dd46-4e55-a57f-743895b3e90b",
   "metadata": {},
   "outputs": [],
   "source": [
    "for v in bins.values():\n",
    "    print('\\n',v)\n",
    "    display(epochs[v])"
   ]
  },
  {
   "cell_type": "code",
   "execution_count": null,
   "id": "90ab48bc-d9da-4295-99c4-4e9b248dc3dd",
   "metadata": {},
   "outputs": [],
   "source": [
    "# Resetting channel types as HEO and VEO are read as 'eeg' by MNE\n",
    "mapping = {}\n",
    "for ch in epochs.ch_names:\n",
    "    mapping[ch] = 'eeg' if ch != 'HEO' and ch != 'VEO' else 'eog'\n",
    "\n",
    "epochs = epochs.set_channel_types(mapping=mapping)"
   ]
  },
  {
   "cell_type": "code",
   "execution_count": null,
   "id": "112616bb-f79e-4693-85c5-794a4b9e8747",
   "metadata": {},
   "outputs": [],
   "source": [
    "# However, excluding HEO and VEO from re-referencing will result in the returned Epochs object loosing two channels\n",
    "# This can be solved by later adding HEO and VEO back (not the focus of this assignment anyway)\n",
    "epochs_m1m2 = deepcopy(epochs).set_eeg_reference(ref_channels=['M1','M2'], ch_type='eeg')\n",
    "epochs_fzczpz = deepcopy(epochs).set_eeg_reference(ref_channels=['FZ','CZ','PZ'], ch_type='eeg')\n",
    "epochs_avg = deepcopy(epochs).set_eeg_reference(ref_channels=[i for i in epochs.ch_names if i!='HEO' and i!='VEO'],\n",
    "                                             ch_type='eeg')"
   ]
  },
  {
   "cell_type": "code",
   "execution_count": null,
   "id": "24563941-3a27-4ddf-b562-58ad2368ec2f",
   "metadata": {},
   "outputs": [],
   "source": [
    "'''\n",
    "In the cell above, epochs.copy().set_eeg_reference() works as well, but personally I like copy.deepcopy()\n",
    "to be safer (?), though I am unsure if using deep copies more than necessary is the best practice in Python.\n",
    "If you don't copy it, however, guess what happens?\n",
    "\n",
    "Also, coming from C++, it took me a while to understand Python shallow and deep copies as Python is a rather\n",
    "unorthodox (?) language for its \"pass-by-assignment\" syntax and mutable/immutable objects. (Okay, yes, there's\n",
    "this \"mutable\" keyword in C++ — I'll just admit I almost flunked C++ lmfao ><)\n",
    "'''\n",
    "\n",
    "a = [[0],[1],[2]]\n",
    "b = a\n",
    "print(f'id(a) = {id(a)}; id(b) = {id(b)}')\n",
    "a.append([3])\n",
    "print(f'  a = {a}; b = {b}', '\\n')  # This is why I am against people saying \"Python is easy\"...\n",
    "\n",
    "c = [[0],[1],[2]]\n",
    "d = c.copy()\n",
    "print(f'id(c) = {id(c)}; id(d) = {id(d)}')\n",
    "c.append([3])\n",
    "print(f'  c = {c}; d = {d}')\n",
    "c[0][0] = 'O'\n",
    "print(f'  c = {c}; d = {d}', '\\n')\n",
    "\n",
    "e = [[0],[1],[2]]\n",
    "f = deepcopy(e)\n",
    "print(f'id(e) = {id(e)}; id(f) = {id(f)}')\n",
    "e.append([3])\n",
    "print(f'  e = {e}; f = {f}')\n",
    "e[0][0] = 'O'\n",
    "print(f'  e = {e}; f = {f}')"
   ]
  },
  {
   "cell_type": "code",
   "execution_count": null,
   "id": "87b5a8c7-169a-4a0b-b8a6-d3a8f3ecd6de",
   "metadata": {},
   "outputs": [],
   "source": [
    "# Reading EEGLAB-rereferenced datasets\n",
    "eeglab_epochs_m1m2 = mne.read_epochs_eeglab('files_to_read\\\\S1_elist_HW3bins_be_chop.set')\n",
    "eeglab_epochs_fzczpz = mne.read_epochs_eeglab('files_to_read\\\\S1_elist_HW3bins_be_chop-FZCZPZ.set')\n",
    "eeglab_epochs_avg = mne.read_epochs_eeglab('files_to_read\\\\S1_elist_HW3bins_be_chop-avg.set')"
   ]
  },
  {
   "cell_type": "code",
   "execution_count": null,
   "id": "33ae6968-638d-4cd9-a9ba-7e0045dd3fd3",
   "metadata": {},
   "outputs": [],
   "source": [
    "# Checking if they are identical as far as rounding errors are concerned\n",
    "print(abs(epochs_m1m2.copy().get_data(units={'eeg':'uV','eog':'uV'}) - eeglab_epochs_m1m2.copy().get_data(units='uV')).max())\n",
    "print(abs(epochs_fzczpz.copy().get_data(units={'eeg':'uV','eog':'uV'}) - eeglab_epochs_fzczpz.copy().get_data(units='uV')).max())\n",
    "print(abs(epochs_avg.copy().get_data(units={'eeg':'uV','eog':'uV'}) - eeglab_epochs_avg.copy().get_data(units='uV')).max())"
   ]
  },
  {
   "cell_type": "code",
   "execution_count": null,
   "id": "97d0c4cc-d6fc-4c5c-af09-35df7dbd747d",
   "metadata": {},
   "outputs": [],
   "source": [
    "# Okay well, on second thought, it's really not useful to create  a named tuple in this particular case LOL\n",
    "# The code in the following cells only need them to be a regular tuple\n",
    "My_Data = namedtuple('My_Data',['M1M2','FZCZPZ','Avg'])\n",
    "my_epochs, my_data = [epochs_m1m2, epochs_fzczpz, epochs_avg], [None,None,None]\n",
    "\n",
    "for i, x in enumerate(my_epochs):\n",
    "    evokeds = [x[v].average() for v in bins.values()]\n",
    "    n_bins = len(evokeds)\n",
    "    n_chs, n_times = evokeds[0].get_data().shape\n",
    "    data = np.array([evokeds[i].get_data(units='uV') for i in range(len(evokeds))], dtype=object).reshape(n_bins, n_chs, n_times)\n",
    "    my_data[i] = data\n",
    "\n",
    "my_data = My_Data(my_data[0],my_data[1],my_data[2])"
   ]
  },
  {
   "cell_type": "code",
   "execution_count": null,
   "id": "a311103f-80d8-48cc-a35a-e49dac67fdd4",
   "metadata": {},
   "outputs": [],
   "source": [
    "# Creating a bins dictionary to more conveniently access bin idices through bin names\n",
    "bins_dict = {}\n",
    "for k in bins.values():\n",
    "    bins_dict[k] = list(bins.values()).index(k)\n",
    "\n",
    "bins_dict"
   ]
  },
  {
   "cell_type": "code",
   "execution_count": null,
   "id": "4b6d25ca-d284-44a3-ae06-65fdab875966",
   "metadata": {},
   "outputs": [],
   "source": [
    "# Export rereferenced data from EEGLAB: ERPLAB > Export & Import ERP > Export ERP to text (universal)\n",
    "os.chdir('exported_data_txt')\n",
    "fnames = ['m1m2_Class_G .txt', 'm1m2_Class_UG.txt',\n",
    "          'fzczpz_Class_G .txt', 'fzczpz_Class_UG.txt',\n",
    "          'avg_Class_G .txt', 'avg_Class_UG.txt']\n",
    "\n",
    "# Checking if Python data arrays and EEGLAB data arrays are identical as far as rounding errors are concerned\n",
    "for i, f in enumerate(fnames):\n",
    "    df = pd.read_csv(f, sep='\t').drop(columns=['time','Unnamed: 35','HEO','VEO'])\n",
    "    #display(df)\n",
    "    eeglab_data = df.to_numpy().transpose()\n",
    "\n",
    "    try:\n",
    "        print(abs(my_data[int(i/2)][bins_dict['/'.join(f[-12:-5].split('_'))]]-eeglab_data).max())\n",
    "    except KeyError:\n",
    "        print(abs(my_data[int(i/2)][bins_dict['/'.join(f[-12:-4].split('_'))]]-eeglab_data).max())\n",
    "\n",
    "os.chdir('..')"
   ]
  },
  {
   "cell_type": "code",
   "execution_count": null,
   "id": "ddfb4856-495c-44d2-b5d2-6a314ef93a8e",
   "metadata": {},
   "outputs": [],
   "source": [
    "ch_dict, ref_dict = {}, {'Ref = (M1+M2)/2':0, 'Ref = (FZ+CZ+PZ)/3':1, 'Ref = avgchan(1:32)':2}\n",
    "for i, x in enumerate(epochs.ch_names):\n",
    "    ch_dict[x] = i\n",
    "    \n",
    "ch_to_plot = ['FZ', 'CZ', 'PZ']\n",
    "bins_to_plot = ['Class/G', 'Class/UG']\n",
    "\n",
    "t = [i for i in range(-200, 1200)]\n",
    "linestyles = ['solid', 'solid']\n",
    "colors = ['black','red']\n",
    "\n",
    "for k, v in ref_dict.items():\n",
    "    figure, axes = plt.subplots(1,3, figsize=(20, 3), sharey=True)\n",
    "    for ax, ch in zip(axes.copy().flatten(), ch_to_plot):\n",
    "        for i, x in enumerate(bins_to_plot):\n",
    "            ax.plot(t, my_data[v][int(list(bins.keys())[int(list(bins.values()).index(x))])-1][ch_dict[ch]],\n",
    "                    linestyle=linestyles[i], color=colors[i], label=x)\n",
    "        ax.axvline(x=0, color='black', linewidth=0.5)\n",
    "        ax.axhline(y=0, color='black', linewidth=0.5)\n",
    "        ax.set_title(ch)\n",
    "        ax.set_xlabel('Time (ms)')\n",
    "        ax.set_xlim(-200, 1200)\n",
    "        ax.set_ylabel('µV')\n",
    "        ax.set_ylim(-10, 10)\n",
    "        ax.invert_yaxis()\n",
    "        ax.yaxis.set_tick_params(labelbottom=True)\n",
    "        hdl, lbl = ax.get_legend_handles_labels()\n",
    "    figure.legend(hdl, lbl, loc='upper left', bbox_to_anchor=[-0.001, 0.001])\n",
    "    figure.tight_layout()\n",
    "    plt.suptitle(k, y=1.1, fontsize=20)\n",
    "    plt.show()"
   ]
  }
 ],
 "metadata": {
  "kernelspec": {
   "display_name": "Python 3 (ipykernel)",
   "language": "python",
   "name": "python3"
  },
  "language_info": {
   "codemirror_mode": {
    "name": "ipython",
    "version": 3
   },
   "file_extension": ".py",
   "mimetype": "text/x-python",
   "name": "python",
   "nbconvert_exporter": "python",
   "pygments_lexer": "ipython3",
   "version": "3.11.5"
  }
 },
 "nbformat": 4,
 "nbformat_minor": 5
}
