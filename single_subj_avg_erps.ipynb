{
 "cells": [
  {
   "cell_type": "code",
   "execution_count": null,
   "id": "a72aad6f-0d54-4bc7-be29-3dd4361867a3",
   "metadata": {},
   "outputs": [],
   "source": [
    "import mne\n",
    "import numpy as np\n",
    "import matplotlib.pyplot as plt\n",
    "from collections import namedtuple\n",
    "'''import os'''  # some of you might need this\n",
    "import warnings\n",
    "warnings.filterwarnings('ignore')  # For better display; it's usually NOT a good idea to suppress warnings"
   ]
  },
  {
   "cell_type": "markdown",
   "id": "660e651e-92b2-47cf-bd3f-cf1598632e9a",
   "metadata": {},
   "source": [
    "### Loading raw and epoched data"
   ]
  },
  {
   "cell_type": "code",
   "execution_count": null,
   "id": "10945071-09c3-416b-b79f-66fd83bc4a36",
   "metadata": {},
   "outputs": [],
   "source": [
    "'''os.chdir('path_to_data')'''\n",
    "eeglab_raw = mne.io.read_raw_eeglab('S1.set')\n",
    "eeglab_epochs = mne.read_epochs_eeglab('S1_elist_bins_chop_be.set')\n",
    "\n",
    "eeglab_epochs.event_id"
   ]
  },
  {
   "cell_type": "markdown",
   "id": "c85e6d21-39a0-44a9-bfd2-3d1089a67875",
   "metadata": {},
   "source": [
    "### Creating bin averages"
   ]
  },
  {
   "cell_type": "code",
   "execution_count": null,
   "id": "881afdce-ad0f-4064-9097-315e2b9fbb02",
   "metadata": {},
   "outputs": [],
   "source": [
    "Evokeds_Dict = namedtuple('Evokeds_Dict', ['Evokeds_List','All_Bins'])\n",
    "evokeds_dict = Evokeds_Dict([eeglab_epochs[v].average() for v in ['B1(221)','B2(222)','B3(221)','B4(222)']],\n",
    "                            ['B1(221)','B2(222)','B3(221)','B4(222)'])"
   ]
  },
  {
   "cell_type": "markdown",
   "id": "a678603f-00e1-4e65-9181-85e9e2b62ebb",
   "metadata": {},
   "source": [
    "### Setting plotting parameters"
   ]
  },
  {
   "cell_type": "code",
   "execution_count": null,
   "id": "5ebf9f13-f8b7-4357-ac5c-b4f828fee1f8",
   "metadata": {},
   "outputs": [],
   "source": [
    "evokeds, all_bins = evokeds_dict\n",
    "\n",
    "trange = (evokeds[0].first, evokeds[0].last+1)  \n",
    "t = [i for i in range(trange[0], trange[1])]\n",
    "\n",
    "n_bins = len(evokeds)\n",
    "n_chs, n_times = evokeds[0].get_data().shape\n",
    "data = np.array([evokeds[i].get_data(units='uV')\n",
    "                 for i in range(len(evokeds))], dtype=object).reshape(n_bins, n_chs, n_times)\n",
    "\n",
    "ch_dict = {}\n",
    "for i, x in enumerate(evokeds[0].ch_names):\n",
    "    ch_dict[x] = i\n",
    "\n",
    "chs_to_plot, bins_to_plot = ['FZ','FCZ','CZ','CPZ','PZ'], ['B1(221)','B2(222)']  # channels and bins to plot\n",
    "linestyles, colors = ['solid','solid'], ['navy','deepskyblue']  # line spec\n",
    "\n",
    "savefig, filepath = False, None"
   ]
  },
  {
   "cell_type": "markdown",
   "id": "27b98dab-e83f-4ffa-b59f-582f368e39c8",
   "metadata": {},
   "source": [
    "### Plotting single-subject averaged ERPs: _classic_ layout"
   ]
  },
  {
   "cell_type": "code",
   "execution_count": null,
   "id": "405f4ffd-048b-4d75-b0b4-7179ab40f9a5",
   "metadata": {},
   "outputs": [],
   "source": [
    "nrows, ncols = 3, 2\n",
    "figsize = (12, 15)\n",
    "\n",
    "figure, axes = plt.subplots(nrows, ncols, figsize=figsize, sharey=True)\n",
    "axes_flat = axes.copy().flatten()\n",
    "for ax, ch in zip(axes_flat, chs_to_plot):\n",
    "    for i, x in enumerate(bins_to_plot):\n",
    "        ax.plot(t, data[all_bins.index(x)][ch_dict[ch]],\n",
    "                linestyle=linestyles[i], color=colors[i], label=x)\n",
    "    ax.axvline(x=0, color='black', linewidth=0.5)\n",
    "    ax.axhline(y=0, color='black', linewidth=0.5)\n",
    "    ax.set_title(ch, fontsize=20)\n",
    "    ax.set_xlabel('Time (ms)', labelpad=15, fontsize=13)\n",
    "    ax.set_xlim(-100, 900)  # time range to plot\n",
    "    ax.set_xticks(list(range(-100,901,200)))  # time ticks\n",
    "    ax.set_ylim(-10, 10)  # y scale\n",
    "    ax.set_yticks(list(range(-10,10,5)))  # y ticks\n",
    "    ax.set_ylabel('µV', labelpad=15, fontsize=13)\n",
    "    ax.invert_yaxis()  # negative up\n",
    "    ax.yaxis.set_tick_params(labelbottom=True)\n",
    "    hdl, lbl = ax.get_legend_handles_labels()\n",
    "for ax in axes_flat:\n",
    "    if not ax.lines: ax.remove()\n",
    "figure.legend(hdl, lbl, loc='upper left', bbox_to_anchor=[-0.001, 0.001], fontsize=15, borderpad=0.5)\n",
    "figure.tight_layout(pad=2)\n",
    "if savefig == True: plt.savefig(filepath)\n",
    "plt.show()"
   ]
  },
  {
   "cell_type": "markdown",
   "id": "8030071e-c09d-412d-99a3-b37674c89df1",
   "metadata": {},
   "source": [
    "### Plotting single-subject averaged ERPs: _topo_ layout"
   ]
  },
  {
   "cell_type": "code",
   "execution_count": null,
   "id": "29c8bd7c-73b8-43f3-a608-1385848df732",
   "metadata": {},
   "outputs": [],
   "source": [
    "chs_to_plot = evokeds[0].ch_names\n",
    "pos_dict = {'HEO':1,'FP1':2,'FP2':4,'VEO':5,\n",
    "            'F7':8,'F3':9,'FZ':10,'F4':11,'F8':12,\n",
    "            'FT7':15,'FC3':16,'FCZ':17,'FC4':18,'FT8':19,\n",
    "            'T7':22,'C3':23,'CZ':24,'C4':25,'T8':26,\n",
    "            'M1':28,'TP7':29,'CP3':30,'CPZ':31,'CP4':32,'TP8':33,'M2':34,\n",
    "            'P7':36,'P3':37,'PZ':38,'P4':39,'P8':40,\n",
    "            'O1':44,'OZ':45,'O2':46}\n",
    "keys, vals = list(pos_dict.keys()), list(pos_dict.values())\n",
    "\n",
    "nrows, ncols = 7, 7\n",
    "figsize = (45,35)\n",
    "figure, axes = plt.subplots(nrows, ncols, figsize=figsize, sharey=True)\n",
    "for (m,n), ax in np.ndenumerate(axes):\n",
    "    if m*ncols+n == 45: ax.set_xlabel('Time (ms)', fontsize=30, labelpad=35.0)\n",
    "    if m*ncols+n == 28: ax.set_ylabel('µV', fontsize=30, labelpad=35.0)\n",
    "    try:\n",
    "        if keys[vals.index(m*ncols+n)] not in chs_to_plot: ax.remove()\n",
    "    except ValueError:\n",
    "        ax.remove()\n",
    "            \n",
    "for ch in chs_to_plot:\n",
    "    ax = plt.subplot(nrows, ncols, pos_dict[ch]+1)\n",
    "    for i, x in enumerate(bins_to_plot):\n",
    "        ax.plot(t, data[all_bins.index(x)][ch_dict[ch]], linestyle=linestyles[i], color=colors[i], label=x)\n",
    "    ax.axvline(x=0, color='black', linewidth=0.5)\n",
    "    ax.axhline(y=0, color='black', linewidth=0.5)\n",
    "    ax.set_title(ch, fontsize=40)\n",
    "    ax.set_xlim(-200,1100)  # time range to plot\n",
    "    ax.set_xticks([-200,0,300,600,900,1100])  # time ticks\n",
    "    ax.set_ylim(-20, 20)  # y scale\n",
    "    ax.set_yticks(list(range(-20,20,10)))  # y ticks\n",
    "    ax.invert_yaxis()  # negative up\n",
    "    ax.yaxis.set_tick_params(labelbottom=True, labelsize=20)\n",
    "    ax.xaxis.set_tick_params(labelbottom=True, labelsize=20)\n",
    "    hdl, lbl = ax.get_legend_handles_labels()\n",
    "figure.legend(hdl, lbl, loc='lower left', bbox_to_anchor=[-0.001, -0.001], fontsize=45, borderpad=1)\n",
    "figure.tight_layout(pad=3)\n",
    "if savefig == True: plt.savefig(filepath)\n",
    "plt.show()"
   ]
  },
  {
   "cell_type": "code",
   "execution_count": null,
   "id": "acc20f53-8d56-4cae-b7f0-608dc6f7563a",
   "metadata": {},
   "outputs": [],
   "source": []
  }
 ],
 "metadata": {
  "kernelspec": {
   "display_name": "Python 3 (ipykernel)",
   "language": "python",
   "name": "python3"
  },
  "language_info": {
   "codemirror_mode": {
    "name": "ipython",
    "version": 3
   },
   "file_extension": ".py",
   "mimetype": "text/x-python",
   "name": "python",
   "nbconvert_exporter": "python",
   "pygments_lexer": "ipython3",
   "version": "3.11.5"
  }
 },
 "nbformat": 4,
 "nbformat_minor": 5
}
