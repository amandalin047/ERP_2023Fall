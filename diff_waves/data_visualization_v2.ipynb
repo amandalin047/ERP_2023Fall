{
 "cells": [
  {
   "cell_type": "markdown",
   "id": "a9e8bb90-c44b-424d-b420-8d7e6e236b3e",
   "metadata": {},
   "source": [
    "- Export ERP to text (universal)\n",
    "- Create `mne.EvokedArray()` object "
   ]
  },
  {
   "cell_type": "markdown",
   "id": "db1564c7-c63a-418a-9d5e-7dc1417033f1",
   "metadata": {},
   "source": [
    "### Plotting single-subject averaged ERPs"
   ]
  },
  {
   "cell_type": "code",
   "execution_count": null,
   "id": "074052d2-546a-4fb2-9cf2-b278d201ec0a",
   "metadata": {},
   "outputs": [],
   "source": [
    "import os\n",
    "import mne\n",
    "import matplotlib.pyplot as plt\n",
    "import numpy as np\n",
    "import pandas as pd\n",
    "import warnings\n",
    "warnings.filterwarnings('ignore')"
   ]
  },
  {
   "cell_type": "code",
   "execution_count": null,
   "id": "b45a4586-ceb4-4e2f-b420-2c22b10da21d",
   "metadata": {},
   "outputs": [],
   "source": [
    "def parse_bdf(BDF_txt):\n",
    "    f1 = open(BDF_txt, encoding='utf-8')\n",
    "    f2 = f1.read().split()\n",
    "    f1.close()\n",
    "    bin_labels = [f2[2+4*i] for i in range(int((len(f2))/4))]\n",
    "    \n",
    "    bins = {}\n",
    "    for i,x in enumerate(bin_labels):\n",
    "        bins[x] = i\n",
    "    return bins"
   ]
  },
  {
   "cell_type": "code",
   "execution_count": null,
   "id": "ed6d800e-e6f7-4ebd-8ffe-5c5051c6062e",
   "metadata": {},
   "outputs": [],
   "source": [
    "bins = parse_bdf('S1_bdf_18bins.txt')\n",
    "bins"
   ]
  },
  {
   "cell_type": "code",
   "execution_count": null,
   "id": "87669e56-6cea-4c80-b64a-fb3dcf321960",
   "metadata": {},
   "outputs": [],
   "source": [
    "pwd()"
   ]
  },
  {
   "cell_type": "code",
   "execution_count": null,
   "id": "8cfdac02-8df6-43ef-9b48-ad058eca0590",
   "metadata": {},
   "outputs": [],
   "source": [
    "prefix, path = 'S1_18bins_', 'avg_erp_bins'\n",
    "files_orig = [[f for f in fs if f.startswith(prefix)] for root, dirs, fs in os.walk(path, topdown=True)][0]\n",
    "files = [None]*len(files_orig)\n",
    "\n",
    "for f in files_orig:\n",
    "    try:\n",
    "        files[bins[f[10:-5]]] = f  # 10 and -5 depend on the file names\n",
    "    except KeyError:\n",
    "        files[bins[f[10:-4]]] = f  # 10 and -4 depend on the file names\n",
    "\n",
    "files"
   ]
  },
  {
   "cell_type": "code",
   "execution_count": null,
   "id": "3df60353-8073-4ada-9634-d9bcba8c10a1",
   "metadata": {},
   "outputs": [],
   "source": [
    "raw = mne.io.read_raw_eeglab('S1.set')\n",
    "ch_names = raw.ch_names\n",
    "ch_names = [i if 'Z' not in i else i[:-1]+'z' for i in ch_names]\n",
    "ch_names[ch_names.index('FP1')], ch_names[ch_names.index('FP2')] = 'Fp1','Fp2'\n",
    "to_exclude = ['M1','M2','HEO','VEO']\n",
    "# M1, M2 are not EOG; just setting them to EOG so that they don't get shown in the topo \n",
    "ch_types = ['eeg' if i not in to_exclude else 'eog' for i in ch_names]\n",
    "info = mne.create_info(ch_names, ch_types=ch_types, sfreq=1000)\n",
    "# Using biosemi64 so that the electrodes won't exceed the scalp boundary\n",
    "info.set_montage('biosemi64', on_missing='ignore');"
   ]
  },
  {
   "cell_type": "code",
   "execution_count": null,
   "id": "86691c08-c430-498a-9c28-079b1660b2d0",
   "metadata": {},
   "outputs": [],
   "source": [
    "evokeds, data = [None]*len(files), np.empty((len(files)), dtype=np.ndarray)\n",
    "tmin = -0.2\n",
    "\n",
    "os.chdir(path)\n",
    "for i, f in enumerate(files):\n",
    "    df = pd.read_csv(f, sep='\t').drop(columns=['time','Unnamed: 35'])\n",
    "    eeglab_data = df.to_numpy().transpose()\n",
    "    data[i] = eeglab_data\n",
    "    evokeds[i] = mne.EvokedArray(data=eeglab_data, info=info, tmin=tmin)\n",
    "os.chdir('..')\n",
    "\n",
    "evokeds[0]"
   ]
  },
  {
   "cell_type": "code",
   "execution_count": null,
   "id": "c3719266-bbe7-4a55-9f00-b2d9749c1df0",
   "metadata": {},
   "outputs": [],
   "source": [
    "display(df)"
   ]
  },
  {
   "cell_type": "code",
   "execution_count": null,
   "id": "7bfbf1fa-654b-4b25-b0f6-fc538b0ffeb7",
   "metadata": {},
   "outputs": [],
   "source": [
    "ch_dict = {}\n",
    "for i, x in enumerate(ch_names):\n",
    "    ch_dict[x] = i\n",
    "    \n",
    "ch_to_plot = ['Fz', 'Cz', 'Pz']\n",
    "bins_to_plot = ['LVF_G_Cor', 'RVF_G_Cor', 'LVF_UG_Cor', 'RVF_UG_Cor']\n",
    "\n",
    "t = [i for i in range(-200, 1200)]\n",
    "linestyles = ['solid', 'solid', 'dashed', 'dashed']\n",
    "colors = ['navy', 'deepskyblue', 'navy', 'deepskyblue']\n",
    "\n",
    "figure, axes = plt.subplots(3,1, figsize=(12, 15), sharey=True)\n",
    "for ax, ch in zip(axes.copy().flatten(), ch_to_plot):\n",
    "    for i, x in enumerate(bins_to_plot):\n",
    "        ax.plot(t, data[bins[x]][ch_dict[ch]],\n",
    "                linestyle=linestyles[i], color=colors[i], label=x)\n",
    "    ax.axvline(x=0, color='black', linewidth=0.5)\n",
    "    ax.axhline(y=0, color='black', linewidth=0.5)\n",
    "    ax.set_title(ch)\n",
    "    ax.set_xlabel('Time (ms)')\n",
    "    ax.set_xlim(-200, 1200)\n",
    "    ax.set_xticks(list(range(-200,1201,200)))  # time ticks\n",
    "    ax.set_ylabel('µV')\n",
    "    ax.set_ylim(-10, 10)\n",
    "    ax.set_yticks(list(range(-10,10,5)))  # y ticks\n",
    "    ax.invert_yaxis()\n",
    "    ax.yaxis.set_tick_params(labelbottom=True)\n",
    "    hdl, lbl = ax.get_legend_handles_labels()\n",
    "ax.legend(hdl, lbl, bbox_to_anchor=[-0.05, 0.00001]) \n",
    "figure.tight_layout()\n",
    "#figure.savefig('S1_plots.png')\n",
    "plt.show()"
   ]
  },
  {
   "cell_type": "code",
   "execution_count": null,
   "id": "b8025b01-07b3-4b67-87bf-6443ad2b74b8",
   "metadata": {},
   "outputs": [],
   "source": [
    "savefig, filepath = False, 'S1.png'\n",
    "\n",
    "chs_to_plot = evokeds[0].ch_names\n",
    "pos_dict = {'HEO':1,'Fp1':2,'Fp2':4,'VEO':5,\n",
    "            'F7':8,'F3':9,'Fz':10,'F4':11,'F8':12,\n",
    "            'FT7':15,'FC3':16,'FCz':17,'FC4':18,'FT8':19,\n",
    "            'T7':22,'C3':23,'Cz':24,'C4':25,'T8':26,\n",
    "            'M1':28,'TP7':29,'CP3':30,'CPz':31,'CP4':32,'TP8':33,'M2':34,\n",
    "            'P7':36,'P3':37,'Pz':38,'P4':39,'P8':40,\n",
    "            'O1':44,'Oz':45,'O2':46}\n",
    "keys, vals = list(pos_dict.keys()), list(pos_dict.values())\n",
    "\n",
    "nrows, ncols = 7, 7\n",
    "figsize = (45,35)\n",
    "figure, axes = plt.subplots(nrows, ncols, figsize=figsize, sharey=True)\n",
    "for (m,n), ax in np.ndenumerate(axes):\n",
    "    if m*ncols+n == 45: ax.set_xlabel('Time (ms)', fontsize=30, labelpad=35.0)\n",
    "    if m*ncols+n == 28: ax.set_ylabel('µV', fontsize=30, labelpad=35.0)\n",
    "    try:\n",
    "        if keys[vals.index(m*ncols+n)] not in chs_to_plot: ax.remove()\n",
    "    except ValueError:\n",
    "        ax.remove()\n",
    "            \n",
    "for ch in chs_to_plot:\n",
    "    ax = plt.subplot(nrows, ncols, pos_dict[ch]+1)\n",
    "    for i, x in enumerate(bins_to_plot):\n",
    "        ax.plot(t, data[bins[x]][ch_dict[ch]], linestyle=linestyles[i], color=colors[i], label=x)\n",
    "    ax.axvline(x=0, color='black', linewidth=0.5)\n",
    "    ax.axhline(y=0, color='black', linewidth=0.5)\n",
    "    ax.set_title(ch, fontsize=40)\n",
    "    ax.set_xlim(-200,1200)  # time range to plot\n",
    "    ax.set_xticks([-200,0,300,600,900,1200])  # time ticks\n",
    "    ax.set_ylim(-20, 20)  # y scale\n",
    "    ax.set_yticks(list(range(-20,20,10)))  # y ticks\n",
    "    ax.invert_yaxis()  # negative up\n",
    "    ax.yaxis.set_tick_params(labelbottom=True, labelsize=20)\n",
    "    ax.xaxis.set_tick_params(labelbottom=True, labelsize=20)\n",
    "    hdl, lbl = ax.get_legend_handles_labels()\n",
    "figure.legend(hdl, lbl, loc='lower left', bbox_to_anchor=[-0.001, -0.001], fontsize=45, borderpad=1)\n",
    "figure.tight_layout(pad=3)\n",
    "if savefig == True: plt.savefig(filepath)\n",
    "plt.show()"
   ]
  },
  {
   "cell_type": "markdown",
   "id": "7a9a9c7a-343a-4e81-84e7-3fe7285d2ee4",
   "metadata": {},
   "source": [
    "### Difference waves: (Ungrammatical Correct) - (Grammatical Correct)"
   ]
  },
  {
   "cell_type": "code",
   "execution_count": null,
   "id": "c418b612-c55b-466d-a1d4-8acf8a50886e",
   "metadata": {},
   "outputs": [],
   "source": [
    "diff_ug_g = mne.combine_evoked([evokeds[bins['UG_Cor']], evokeds[bins['G_Cor']]], weights=[1,-1])\n",
    "diff_data = diff_ug_g.get_data()"
   ]
  },
  {
   "cell_type": "code",
   "execution_count": null,
   "id": "66e5c148-7f22-4a07-a47e-eb84aab1c406",
   "metadata": {},
   "outputs": [],
   "source": [
    "ch_to_plot = ['Fz', 'Cz', 'Pz']\n",
    "\n",
    "figure, axes = plt.subplots(1,3, figsize=(12, 3), sharey=True)\n",
    "for ax, ch in zip(axes.copy().flatten(), ch_to_plot):\n",
    "    ax.plot(t, diff_data[ch_dict[ch]],\n",
    "                linestyle='solid', color='darkgray', label='UG/Cor - G/Cor')\n",
    "    ax.axvline(x=0, color='black', linewidth=0.5)\n",
    "    ax.axhline(y=0, color='black', linewidth=0.5)\n",
    "    ax.set_title(ch)\n",
    "    ax.set_xlabel('Time (ms)')\n",
    "    ax.set_xlim(-200, 1200)\n",
    "    ax.set_ylabel('µV')\n",
    "    ax.invert_yaxis()\n",
    "    ax.yaxis.set_tick_params(labelbottom=True)\n",
    "    hdl, lbl = ax.get_legend_handles_labels()\n",
    "figure.legend(hdl, lbl, loc='upper left', bbox_to_anchor=[-0.001, 0.001])\n",
    "figure.tight_layout()\n",
    "plt.show()"
   ]
  },
  {
   "cell_type": "markdown",
   "id": "f3605a61-ea6c-425c-b555-8bbbf5d39c84",
   "metadata": {},
   "source": [
    "### Difference waves: (Contralateral) - (Ipsilateral)"
   ]
  },
  {
   "cell_type": "code",
   "execution_count": null,
   "id": "9c492727-ce3e-4ce1-9928-98f1378dc0cc",
   "metadata": {},
   "outputs": [],
   "source": [
    "to_compare = ['RVF_UG_Cor', 'LVF_UG_Cor']\n",
    "contra_ipsi_evokeds = [mne.channels.combine_channels(evokeds[bins[to_compare[i]]], \n",
    "                                                     groups={'P3-P4': [ch_dict['P3'], ch_dict['P4']],\n",
    "                                                             'P4-P3': [ch_dict['P4'], ch_dict['P3']]},\n",
    "                                           method=lambda data: data[0]-data[1]) for i in range(len(to_compare))]\n",
    "contra_ipsi_evokeds[0].ch_names"
   ]
  },
  {
   "cell_type": "code",
   "execution_count": null,
   "id": "a60cde4f-e47c-4ea5-92f0-e0653fbe4698",
   "metadata": {},
   "outputs": [],
   "source": [
    "n_times = evokeds[0].get_data().shape[1]\n",
    "contra_ipsi_data = np.array([contra_ipsi_evokeds[i].get_data() for i in range(len(contra_ipsi_evokeds))],\n",
    "                            dtype=object).reshape(2, 2, n_times)\n",
    "\n",
    "ch_to_plot = ['P3-P4', 'P4-P3']\n",
    "bins_to_plot = ['RVF_UG_Cor', 'LVF_UG_Cor']\n",
    "colors = ['red', 'black']\n",
    "\n",
    "figure, axes = plt.subplots(1,2, figsize=(12, 7))\n",
    "for ax, ch in zip(axes.copy().flatten(), ch_to_plot):\n",
    "    for i, x in enumerate(bins_to_plot):\n",
    "        ax.plot(t, contra_ipsi_data[i][ch_to_plot.index(ch)],\n",
    "                linestyle='solid', color=colors[i], label=x)\n",
    "    ax.axvline(x=0, color='black', linewidth=0.5)\n",
    "    ax.axhline(y=0, color='black', linewidth=0.5)\n",
    "    ax.set_title(ch)\n",
    "    ax.set_xlabel('Time (ms)')\n",
    "    ax.set_ylim(-10, 10)\n",
    "    ax.set_xlim(-200, 1200)\n",
    "    ax.set_ylabel('µV')\n",
    "    ax.invert_yaxis() \n",
    "    ax.yaxis.set_tick_params(labelbottom=True)\n",
    "    hdl, lbl = ax.get_legend_handles_labels()\n",
    "figure.legend(hdl, lbl, loc='upper left', borderpad=2, bbox_to_anchor=[-0.001, 0.001])\n",
    "figure.tight_layout()\n",
    "plt.show()"
   ]
  },
  {
   "cell_type": "markdown",
   "id": "7167e9bc-3354-4ae5-9cc2-c65181f1e3a0",
   "metadata": {},
   "source": [
    "### Topo maps: (Ungrammatical Correct) - (Grammatical Correct)"
   ]
  },
  {
   "cell_type": "code",
   "execution_count": null,
   "id": "28d496a4-ac58-48ff-a1c8-1c1d51d906ea",
   "metadata": {},
   "outputs": [],
   "source": [
    "diff_data = 1e-06*diff_ug_g.get_data()[:,200:] # Cutting off the 200-ms baseline; scale by 1e-06\n",
    "evoked_topo = mne.EvokedArray(data=diff_data, info=info)\n",
    "\n",
    "montage = evoked_topo.get_montage()\n",
    "montage.plot();"
   ]
  },
  {
   "cell_type": "code",
   "execution_count": null,
   "id": "b22c387b-dbe4-4a6d-aa62-3e5ded67c858",
   "metadata": {},
   "outputs": [],
   "source": [
    "# N400 (300ms - 500ms)\n",
    "evoked_topo.plot_topomap(times=np.array([325+i*50 for i in range(0,6)])/1000, average=[0.05]*6,\n",
    "                         vlim=(-1.8,1.8), time_unit='ms', size=2, res=128, mask=None, contours=5);"
   ]
  },
  {
   "cell_type": "code",
   "execution_count": null,
   "id": "1162b500-d2e6-4fa9-bf2c-7d3c32cbfa78",
   "metadata": {},
   "outputs": [],
   "source": [
    "# P600 (700ms - 1000ms)\n",
    "evoked_topo.plot_topomap(times=np.array([725+i*50 for i in range(0,6)])/1000, average=[0.05]*6,\n",
    "                          time_unit='ms', vlim=(-1.8, 1.8), size=2, res=128, mask=None, contours=5);"
   ]
  },
  {
   "cell_type": "markdown",
   "id": "f312f4f9-cd87-4f92-97fa-78bff1a555df",
   "metadata": {},
   "source": [
    "### Exercise: Grand Average? "
   ]
  },
  {
   "cell_type": "code",
   "execution_count": null,
   "id": "9fce11f1-76a4-4cfc-bc94-a9238fbf6f13",
   "metadata": {},
   "outputs": [],
   "source": []
  }
 ],
 "metadata": {
  "kernelspec": {
   "display_name": "Python 3 (ipykernel)",
   "language": "python",
   "name": "python3"
  },
  "language_info": {
   "codemirror_mode": {
    "name": "ipython",
    "version": 3
   },
   "file_extension": ".py",
   "mimetype": "text/x-python",
   "name": "python",
   "nbconvert_exporter": "python",
   "pygments_lexer": "ipython3",
   "version": "3.11.5"
  }
 },
 "nbformat": 4,
 "nbformat_minor": 5
}
